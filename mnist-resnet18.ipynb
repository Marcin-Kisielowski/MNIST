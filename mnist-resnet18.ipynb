{
 "cells": [
  {
   "cell_type": "code",
   "execution_count": 2,
   "metadata": {
    "_cell_guid": "b1076dfc-b9ad-4769-8c92-a6c4dae69d19",
    "_uuid": "8f2839f25d086af736a60e9eeb907d3b93b6e0e5",
    "execution": {
     "iopub.execute_input": "2022-03-10T12:48:39.742204Z",
     "iopub.status.busy": "2022-03-10T12:48:39.741946Z",
     "iopub.status.idle": "2022-03-10T12:48:39.749956Z",
     "shell.execute_reply": "2022-03-10T12:48:39.749031Z",
     "shell.execute_reply.started": "2022-03-10T12:48:39.742175Z"
    }
   },
   "outputs": [],
   "source": [
    "# This Python 3 environment comes with many helpful analytics libraries installed\n",
    "# It is defined by the kaggle/python Docker image: https://github.com/kaggle/docker-python\n",
    "# For example, here's several helpful packages to load\n",
    "\n",
    "import numpy as np # linear algebra\n",
    "import pandas as pd # data processing, CSV file I/O (e.g. pd.read_csv)\n",
    "\n",
    "# Input data files are available in the read-only \"../input/\" directory\n",
    "# For example, running this (by clicking run or pressing Shift+Enter) will list all files under the input directory\n",
    "\n",
    "from zipfile import ZipFile\n",
    "data_file_name=\"./data/digit-recognizer.zip\"\n",
    "data_file=ZipFile(data_file_name,'r')\n",
    "\n",
    "# You can write up to 20GB to the current directory (/kaggle/working/) that gets preserved as output when you create a version using \"Save & Run All\" \n",
    "# You can also write temporary files to /kaggle/temp/, but they won't be saved outside of the current session"
   ]
  },
  {
   "cell_type": "code",
   "execution_count": 3,
   "metadata": {
    "execution": {
     "iopub.execute_input": "2022-03-10T12:48:42.502647Z",
     "iopub.status.busy": "2022-03-10T12:48:42.501028Z",
     "iopub.status.idle": "2022-03-10T12:48:42.509322Z",
     "shell.execute_reply": "2022-03-10T12:48:42.508622Z",
     "shell.execute_reply.started": "2022-03-10T12:48:42.502578Z"
    }
   },
   "outputs": [
    {
     "name": "stdout",
     "output_type": "stream",
     "text": [
      "Training on device  cpu\n"
     ]
    }
   ],
   "source": [
    "import torch\n",
    "available_device = (torch.device('cuda') if torch.cuda.is_available() \n",
    "         else torch.device('cpu'))\n",
    "print(\"Training on device \", available_device)"
   ]
  },
  {
   "cell_type": "code",
   "execution_count": 4,
   "metadata": {
    "execution": {
     "iopub.execute_input": "2022-03-10T12:52:54.639525Z",
     "iopub.status.busy": "2022-03-10T12:52:54.639271Z",
     "iopub.status.idle": "2022-03-10T12:52:54.643748Z",
     "shell.execute_reply": "2022-03-10T12:52:54.642765Z",
     "shell.execute_reply.started": "2022-03-10T12:52:54.639496Z"
    }
   },
   "outputs": [],
   "source": [
    "from torchvision import models, transforms\n",
    "import torch.nn as nn"
   ]
  },
  {
   "cell_type": "code",
   "execution_count": 5,
   "metadata": {
    "execution": {
     "iopub.execute_input": "2022-03-10T12:52:01.774467Z",
     "iopub.status.busy": "2022-03-10T12:52:01.774195Z",
     "iopub.status.idle": "2022-03-10T12:52:01.781975Z",
     "shell.execute_reply": "2022-03-10T12:52:01.781085Z",
     "shell.execute_reply.started": "2022-03-10T12:52:01.774436Z"
    }
   },
   "outputs": [],
   "source": [
    "class MNISTdigits(torch.utils.data.Dataset):\n",
    "  def __init__(self, file_name):\n",
    "        'Initialization'\n",
    "        self.all_data=pd.read_csv(file_name)\n",
    "        self.labels = torch.from_numpy(self.all_data[\"label\"].to_numpy())\n",
    "        data_points=self.all_data.iloc[:,1:].to_numpy()\n",
    "        self.data_tensor=torch.from_numpy(data_points/255).float()\n",
    "        self.transform=None\n",
    "  def __len__(self):\n",
    "        'Denotes the total number of samples'\n",
    "        return len(self.labels)\n",
    "\n",
    "  def __getitem__(self, index):\n",
    "        'Generates one sample of data'\n",
    "        # Select sample\n",
    "       \n",
    "        X = self.data_tensor[index,:]\n",
    "        if self.transform:\n",
    "            X = self.transform(X)\n",
    "        y = self.labels[index]\n",
    "\n",
    "        return X, y"
   ]
  },
  {
   "cell_type": "code",
   "execution_count": 6,
   "metadata": {
    "execution": {
     "iopub.execute_input": "2022-03-10T12:52:04.222085Z",
     "iopub.status.busy": "2022-03-10T12:52:04.221532Z",
     "iopub.status.idle": "2022-03-10T12:52:04.227475Z",
     "shell.execute_reply": "2022-03-10T12:52:04.226544Z",
     "shell.execute_reply.started": "2022-03-10T12:52:04.222047Z"
    }
   },
   "outputs": [],
   "source": [
    "class MNISTdigits2d(MNISTdigits):\n",
    "     def __getitem__(self, index):\n",
    "        'Generates one sample of data'\n",
    "        # Select sample\n",
    "       \n",
    "        X = self.data_tensor[index,:].view(1,28,28)\n",
    "        if self.transform:\n",
    "            X = self.transform(X)\n",
    "        y = self.labels[index]\n",
    "\n",
    "        return X, y"
   ]
  },
  {
   "cell_type": "code",
   "execution_count": 7,
   "metadata": {
    "execution": {
     "iopub.execute_input": "2022-03-10T12:51:27.789064Z",
     "iopub.status.busy": "2022-03-10T12:51:27.788775Z",
     "iopub.status.idle": "2022-03-10T12:51:27.837383Z",
     "shell.execute_reply": "2022-03-10T12:51:27.836636Z",
     "shell.execute_reply.started": "2022-03-10T12:51:27.789032Z"
    }
   },
   "outputs": [],
   "source": [
    "import matplotlib.pyplot as plt\n",
    "%matplotlib inline\n",
    "import time\n",
    "\n",
    "class ModelTrainer:\n",
    "    def __init__(self,model,loss_function,optimizer):\n",
    "        self.model=model\n",
    "        self.loss_fn=loss_function\n",
    "        self.optimizer=optimizer\n",
    "        self.epochs=[]\n",
    "        self.losses=[]\n",
    "    def load_data(self,file_name,split_ratio_list):\n",
    "        self.data_set=MNISTdigits(file_name)\n",
    "        self.split_data(split_ratio_list)\n",
    "    def split_data(self,split_ratio_list):\n",
    "        split_ratio=torch.tensor(split_ratio_list)\n",
    "        lengths=split_ratio*(len(self.data_set)//100)\n",
    "        self.train_set,self.valid_set=torch.utils.data.random_split(self.data_set,lengths)\n",
    "    def normalize_train_data(self):\n",
    "        data_loader=torch.utils.data.DataLoader(self.train_set, batch_size=256, shuffle=False)\n",
    "        means=[]\n",
    "        stds=[]\n",
    "        for imgs,labels in data_loader:\n",
    "            means.append(torch.mean(imgs))\n",
    "            stds.append(torch.std(imgs))\n",
    "        self.mean = torch.mean(torch.tensor(means))\n",
    "        self.std = torch.mean(torch.tensor(stds))\n",
    "        self.data_set.transform = transforms.Normalize((self.mean),(self.std))\n",
    "    def train(self,n_epochs, batch_size=64):\n",
    "        self.model.train()\n",
    "        self.batch_size=batch_size\n",
    "        train_loader=torch.utils.data.DataLoader(self.train_set, batch_size=batch_size, shuffle=True)\n",
    "        initial_n_epochs=len(self.epochs)\n",
    "        start_time=time.time()\n",
    "        for epoch in range(initial_n_epochs+1,initial_n_epochs+n_epochs+1): #We add len(epochs) because we would like to continue where we started after running train() the next time\n",
    "            for imgs,labels in train_loader:\n",
    "                imgs=imgs.to(device=available_device)\n",
    "                labels=labels.to(device=available_device)\n",
    "                self.loss=self.loss_fn(self.model(imgs),labels)\n",
    "                self.optimizer.zero_grad()\n",
    "                self.loss.backward()\n",
    "                self.optimizer.step()\n",
    "            self.epochs.append(epoch) \n",
    "            self.losses.append(self.loss.detach().item())\n",
    "        end_time=time.time()\n",
    "        self.training_time=end_time-start_time\n",
    "    def get_training_time(self):\n",
    "        return self.training_time\n",
    "    def get_accuracy(self,dataset):\n",
    "        self.model.eval()\n",
    "        data_loader=torch.utils.data.DataLoader(dataset, batch_size=64, shuffle=True)\n",
    "        correct_guesses=0\n",
    "        all_samples=0\n",
    "        with torch.no_grad():\n",
    "            for imgs, labels in data_loader:\n",
    "                imgs=imgs.to(device=available_device)\n",
    "                labels=labels.to(device=available_device)\n",
    "                _, predicted = torch.max(self.model(imgs), dim=1)\n",
    "                correct_guesses+=(predicted==labels).sum()\n",
    "                all_samples+=labels.shape[0]\n",
    "        return correct_guesses/all_samples\n",
    "    def get_train_valid_accuracy(self):\n",
    "        return self.get_accuracy(self.train_set), self.get_accuracy(self.valid_set)\n",
    "    def plot_loss_agains_n_epochs(self):\n",
    "        plt.rcParams['figure.figsize'] = [20, 10]\n",
    "        plt.plot(self.epochs,self.losses)\n",
    "    def save_parameters(self,file_name):\n",
    "        torch.save(self.model.state_dict(), file_name)"
   ]
  },
  {
   "cell_type": "code",
   "execution_count": 8,
   "metadata": {
    "execution": {
     "iopub.execute_input": "2022-03-10T12:48:56.350562Z",
     "iopub.status.busy": "2022-03-10T12:48:56.350309Z",
     "iopub.status.idle": "2022-03-10T12:48:56.357235Z",
     "shell.execute_reply": "2022-03-10T12:48:56.354727Z",
     "shell.execute_reply.started": "2022-03-10T12:48:56.350534Z"
    }
   },
   "outputs": [],
   "source": [
    "def analyze_model(model_trainer,batch_size,n_epochs):\n",
    "    model_trainer.train(n_epochs,batch_size)\n",
    "    model_trainer.plot_loss_agains_n_epochs()\n",
    "    train_accuracy, valid_accuracy = model_trainer.get_train_valid_accuracy()\n",
    "    return model_trainer.training_time,train_accuracy.item(),valid_accuracy.item()"
   ]
  },
  {
   "cell_type": "code",
   "execution_count": 9,
   "metadata": {
    "execution": {
     "iopub.execute_input": "2022-03-10T12:53:00.467760Z",
     "iopub.status.busy": "2022-03-10T12:53:00.467489Z",
     "iopub.status.idle": "2022-03-10T12:53:00.478012Z",
     "shell.execute_reply": "2022-03-10T12:53:00.476267Z",
     "shell.execute_reply.started": "2022-03-10T12:53:00.467729Z"
    }
   },
   "outputs": [],
   "source": [
    "class ResNetModelTrainer(ModelTrainer):\n",
    "    def __init__(self,learning_rate):\n",
    "        self.learning_rate=learning_rate\n",
    "        self.model=models.resnet18().to(device=available_device)\n",
    "        self.model.conv1=nn.Conv2d(1, 64, kernel_size=(7, 7), stride=(2, 2), padding=(3, 3), bias=False).to(device=available_device)\n",
    "        self.model.fc=nn.Linear(512,10).to(device=available_device)\n",
    "        self.optimizer=torch.optim.SGD(self.model.parameters(),lr=learning_rate)\n",
    "        self.loss_fn=nn.CrossEntropyLoss()\n",
    "        self.epochs=[]\n",
    "        self.losses=[]\n",
    "    def load_data(self,file_name,split_ratio_list):\n",
    "        self.data_set=MNISTdigits2d(file_name)\n",
    "        self.split_data(split_ratio_list)\n",
    "        self.normalize_train_data()\n",
    "    def save_parameters(self):\n",
    "        self.parameters_file_name=\"./resnet_epochs_%d_batch_size_%d_lr_%f_val_accuracy_%f.pt\"%(len(self.epochs),self.batch_size,self.learning_rate,self.get_accuracy(self.valid_set))\n",
    "        super().save_parameters(self.parameters_file_name)"
   ]
  },
  {
   "cell_type": "code",
   "execution_count": 10,
   "metadata": {
    "execution": {
     "iopub.execute_input": "2022-03-10T12:53:03.165504Z",
     "iopub.status.busy": "2022-03-10T12:53:03.165257Z",
     "iopub.status.idle": "2022-03-10T12:53:06.487315Z",
     "shell.execute_reply": "2022-03-10T12:53:06.486351Z",
     "shell.execute_reply.started": "2022-03-10T12:53:03.165477Z"
    }
   },
   "outputs": [],
   "source": [
    "learning_rate=1.0e-01\n",
    "\n",
    "resnet=ResNetModelTrainer(learning_rate)\n",
    "split_ratio=[80,20]\n",
    "resnet.load_data(data_file.open(\"train.csv\"),split_ratio)"
   ]
  },
  {
   "cell_type": "code",
   "execution_count": 11,
   "metadata": {
    "execution": {
     "iopub.execute_input": "2022-03-10T12:53:11.508577Z",
     "iopub.status.busy": "2022-03-10T12:53:11.508329Z",
     "iopub.status.idle": "2022-03-10T12:57:21.315652Z",
     "shell.execute_reply": "2022-03-10T12:57:21.314996Z",
     "shell.execute_reply.started": "2022-03-10T12:53:11.508551Z"
    }
   },
   "outputs": [
    {
     "ename": "KeyboardInterrupt",
     "evalue": "",
     "output_type": "error",
     "traceback": [
      "\u001b[0;31m---------------------------------------------------------------------------\u001b[0m",
      "\u001b[0;31mKeyboardInterrupt\u001b[0m                         Traceback (most recent call last)",
      "\u001b[0;32m<ipython-input-11-c19c6726a1b3>\u001b[0m in \u001b[0;36m<module>\u001b[0;34m\u001b[0m\n\u001b[0;32m----> 1\u001b[0;31m \u001b[0mresults\u001b[0m\u001b[0;34m=\u001b[0m\u001b[0manalyze_model\u001b[0m\u001b[0;34m(\u001b[0m\u001b[0mresnet\u001b[0m\u001b[0;34m,\u001b[0m\u001b[0;36m16\u001b[0m\u001b[0;34m,\u001b[0m\u001b[0;36m10\u001b[0m\u001b[0;34m)\u001b[0m\u001b[0;34m\u001b[0m\u001b[0;34m\u001b[0m\u001b[0m\n\u001b[0m\u001b[1;32m      2\u001b[0m \u001b[0mprint\u001b[0m\u001b[0;34m(\u001b[0m\u001b[0;34m\"training time: %f \\t train accuracy: %f \\t valid accuracy: %f \"\u001b[0m\u001b[0;34m%\u001b[0m\u001b[0mresults\u001b[0m\u001b[0;34m)\u001b[0m\u001b[0;34m\u001b[0m\u001b[0;34m\u001b[0m\u001b[0m\n",
      "\u001b[0;32m<ipython-input-8-9308c674d8e0>\u001b[0m in \u001b[0;36manalyze_model\u001b[0;34m(model_trainer, batch_size, n_epochs)\u001b[0m\n\u001b[1;32m      1\u001b[0m \u001b[0;32mdef\u001b[0m \u001b[0manalyze_model\u001b[0m\u001b[0;34m(\u001b[0m\u001b[0mmodel_trainer\u001b[0m\u001b[0;34m,\u001b[0m\u001b[0mbatch_size\u001b[0m\u001b[0;34m,\u001b[0m\u001b[0mn_epochs\u001b[0m\u001b[0;34m)\u001b[0m\u001b[0;34m:\u001b[0m\u001b[0;34m\u001b[0m\u001b[0;34m\u001b[0m\u001b[0m\n\u001b[0;32m----> 2\u001b[0;31m     \u001b[0mmodel_trainer\u001b[0m\u001b[0;34m.\u001b[0m\u001b[0mtrain\u001b[0m\u001b[0;34m(\u001b[0m\u001b[0mn_epochs\u001b[0m\u001b[0;34m,\u001b[0m\u001b[0mbatch_size\u001b[0m\u001b[0;34m)\u001b[0m\u001b[0;34m\u001b[0m\u001b[0;34m\u001b[0m\u001b[0m\n\u001b[0m\u001b[1;32m      3\u001b[0m     \u001b[0mmodel_trainer\u001b[0m\u001b[0;34m.\u001b[0m\u001b[0mplot_loss_agains_n_epochs\u001b[0m\u001b[0;34m(\u001b[0m\u001b[0;34m)\u001b[0m\u001b[0;34m\u001b[0m\u001b[0;34m\u001b[0m\u001b[0m\n\u001b[1;32m      4\u001b[0m     \u001b[0mtrain_accuracy\u001b[0m\u001b[0;34m,\u001b[0m \u001b[0mvalid_accuracy\u001b[0m \u001b[0;34m=\u001b[0m \u001b[0mmodel_trainer\u001b[0m\u001b[0;34m.\u001b[0m\u001b[0mget_train_valid_accuracy\u001b[0m\u001b[0;34m(\u001b[0m\u001b[0;34m)\u001b[0m\u001b[0;34m\u001b[0m\u001b[0;34m\u001b[0m\u001b[0m\n\u001b[1;32m      5\u001b[0m     \u001b[0;32mreturn\u001b[0m \u001b[0mmodel_trainer\u001b[0m\u001b[0;34m.\u001b[0m\u001b[0mtraining_time\u001b[0m\u001b[0;34m,\u001b[0m\u001b[0mtrain_accuracy\u001b[0m\u001b[0;34m.\u001b[0m\u001b[0mitem\u001b[0m\u001b[0;34m(\u001b[0m\u001b[0;34m)\u001b[0m\u001b[0;34m,\u001b[0m\u001b[0mvalid_accuracy\u001b[0m\u001b[0;34m.\u001b[0m\u001b[0mitem\u001b[0m\u001b[0;34m(\u001b[0m\u001b[0;34m)\u001b[0m\u001b[0;34m\u001b[0m\u001b[0;34m\u001b[0m\u001b[0m\n",
      "\u001b[0;32m<ipython-input-7-c48130b2297f>\u001b[0m in \u001b[0;36mtrain\u001b[0;34m(self, n_epochs, batch_size)\u001b[0m\n\u001b[1;32m     37\u001b[0m                 \u001b[0mimgs\u001b[0m\u001b[0;34m=\u001b[0m\u001b[0mimgs\u001b[0m\u001b[0;34m.\u001b[0m\u001b[0mto\u001b[0m\u001b[0;34m(\u001b[0m\u001b[0mdevice\u001b[0m\u001b[0;34m=\u001b[0m\u001b[0mavailable_device\u001b[0m\u001b[0;34m)\u001b[0m\u001b[0;34m\u001b[0m\u001b[0;34m\u001b[0m\u001b[0m\n\u001b[1;32m     38\u001b[0m                 \u001b[0mlabels\u001b[0m\u001b[0;34m=\u001b[0m\u001b[0mlabels\u001b[0m\u001b[0;34m.\u001b[0m\u001b[0mto\u001b[0m\u001b[0;34m(\u001b[0m\u001b[0mdevice\u001b[0m\u001b[0;34m=\u001b[0m\u001b[0mavailable_device\u001b[0m\u001b[0;34m)\u001b[0m\u001b[0;34m\u001b[0m\u001b[0;34m\u001b[0m\u001b[0m\n\u001b[0;32m---> 39\u001b[0;31m                 \u001b[0mself\u001b[0m\u001b[0;34m.\u001b[0m\u001b[0mloss\u001b[0m\u001b[0;34m=\u001b[0m\u001b[0mself\u001b[0m\u001b[0;34m.\u001b[0m\u001b[0mloss_fn\u001b[0m\u001b[0;34m(\u001b[0m\u001b[0mself\u001b[0m\u001b[0;34m.\u001b[0m\u001b[0mmodel\u001b[0m\u001b[0;34m(\u001b[0m\u001b[0mimgs\u001b[0m\u001b[0;34m)\u001b[0m\u001b[0;34m,\u001b[0m\u001b[0mlabels\u001b[0m\u001b[0;34m)\u001b[0m\u001b[0;34m\u001b[0m\u001b[0;34m\u001b[0m\u001b[0m\n\u001b[0m\u001b[1;32m     40\u001b[0m                 \u001b[0mself\u001b[0m\u001b[0;34m.\u001b[0m\u001b[0moptimizer\u001b[0m\u001b[0;34m.\u001b[0m\u001b[0mzero_grad\u001b[0m\u001b[0;34m(\u001b[0m\u001b[0;34m)\u001b[0m\u001b[0;34m\u001b[0m\u001b[0;34m\u001b[0m\u001b[0m\n\u001b[1;32m     41\u001b[0m                 \u001b[0mself\u001b[0m\u001b[0;34m.\u001b[0m\u001b[0mloss\u001b[0m\u001b[0;34m.\u001b[0m\u001b[0mbackward\u001b[0m\u001b[0;34m(\u001b[0m\u001b[0;34m)\u001b[0m\u001b[0;34m\u001b[0m\u001b[0;34m\u001b[0m\u001b[0m\n",
      "\u001b[0;32m~/.local/lib/python3.8/site-packages/torch/nn/modules/module.py\u001b[0m in \u001b[0;36m_call_impl\u001b[0;34m(self, *input, **kwargs)\u001b[0m\n\u001b[1;32m   1100\u001b[0m         if not (self._backward_hooks or self._forward_hooks or self._forward_pre_hooks or _global_backward_hooks\n\u001b[1;32m   1101\u001b[0m                 or _global_forward_hooks or _global_forward_pre_hooks):\n\u001b[0;32m-> 1102\u001b[0;31m             \u001b[0;32mreturn\u001b[0m \u001b[0mforward_call\u001b[0m\u001b[0;34m(\u001b[0m\u001b[0;34m*\u001b[0m\u001b[0minput\u001b[0m\u001b[0;34m,\u001b[0m \u001b[0;34m**\u001b[0m\u001b[0mkwargs\u001b[0m\u001b[0;34m)\u001b[0m\u001b[0;34m\u001b[0m\u001b[0;34m\u001b[0m\u001b[0m\n\u001b[0m\u001b[1;32m   1103\u001b[0m         \u001b[0;31m# Do not call functions when jit is used\u001b[0m\u001b[0;34m\u001b[0m\u001b[0;34m\u001b[0m\u001b[0;34m\u001b[0m\u001b[0m\n\u001b[1;32m   1104\u001b[0m         \u001b[0mfull_backward_hooks\u001b[0m\u001b[0;34m,\u001b[0m \u001b[0mnon_full_backward_hooks\u001b[0m \u001b[0;34m=\u001b[0m \u001b[0;34m[\u001b[0m\u001b[0;34m]\u001b[0m\u001b[0;34m,\u001b[0m \u001b[0;34m[\u001b[0m\u001b[0;34m]\u001b[0m\u001b[0;34m\u001b[0m\u001b[0;34m\u001b[0m\u001b[0m\n",
      "\u001b[0;32m~/.local/lib/python3.8/site-packages/torchvision/models/resnet.py\u001b[0m in \u001b[0;36mforward\u001b[0;34m(self, x)\u001b[0m\n\u001b[1;32m    247\u001b[0m \u001b[0;34m\u001b[0m\u001b[0m\n\u001b[1;32m    248\u001b[0m     \u001b[0;32mdef\u001b[0m \u001b[0mforward\u001b[0m\u001b[0;34m(\u001b[0m\u001b[0mself\u001b[0m\u001b[0;34m,\u001b[0m \u001b[0mx\u001b[0m\u001b[0;34m:\u001b[0m \u001b[0mTensor\u001b[0m\u001b[0;34m)\u001b[0m \u001b[0;34m->\u001b[0m \u001b[0mTensor\u001b[0m\u001b[0;34m:\u001b[0m\u001b[0;34m\u001b[0m\u001b[0;34m\u001b[0m\u001b[0m\n\u001b[0;32m--> 249\u001b[0;31m         \u001b[0;32mreturn\u001b[0m \u001b[0mself\u001b[0m\u001b[0;34m.\u001b[0m\u001b[0m_forward_impl\u001b[0m\u001b[0;34m(\u001b[0m\u001b[0mx\u001b[0m\u001b[0;34m)\u001b[0m\u001b[0;34m\u001b[0m\u001b[0;34m\u001b[0m\u001b[0m\n\u001b[0m\u001b[1;32m    250\u001b[0m \u001b[0;34m\u001b[0m\u001b[0m\n\u001b[1;32m    251\u001b[0m \u001b[0;34m\u001b[0m\u001b[0m\n",
      "\u001b[0;32m~/.local/lib/python3.8/site-packages/torchvision/models/resnet.py\u001b[0m in \u001b[0;36m_forward_impl\u001b[0;34m(self, x)\u001b[0m\n\u001b[1;32m    238\u001b[0m         \u001b[0mx\u001b[0m \u001b[0;34m=\u001b[0m \u001b[0mself\u001b[0m\u001b[0;34m.\u001b[0m\u001b[0mlayer2\u001b[0m\u001b[0;34m(\u001b[0m\u001b[0mx\u001b[0m\u001b[0;34m)\u001b[0m\u001b[0;34m\u001b[0m\u001b[0;34m\u001b[0m\u001b[0m\n\u001b[1;32m    239\u001b[0m         \u001b[0mx\u001b[0m \u001b[0;34m=\u001b[0m \u001b[0mself\u001b[0m\u001b[0;34m.\u001b[0m\u001b[0mlayer3\u001b[0m\u001b[0;34m(\u001b[0m\u001b[0mx\u001b[0m\u001b[0;34m)\u001b[0m\u001b[0;34m\u001b[0m\u001b[0;34m\u001b[0m\u001b[0m\n\u001b[0;32m--> 240\u001b[0;31m         \u001b[0mx\u001b[0m \u001b[0;34m=\u001b[0m \u001b[0mself\u001b[0m\u001b[0;34m.\u001b[0m\u001b[0mlayer4\u001b[0m\u001b[0;34m(\u001b[0m\u001b[0mx\u001b[0m\u001b[0;34m)\u001b[0m\u001b[0;34m\u001b[0m\u001b[0;34m\u001b[0m\u001b[0m\n\u001b[0m\u001b[1;32m    241\u001b[0m \u001b[0;34m\u001b[0m\u001b[0m\n\u001b[1;32m    242\u001b[0m         \u001b[0mx\u001b[0m \u001b[0;34m=\u001b[0m \u001b[0mself\u001b[0m\u001b[0;34m.\u001b[0m\u001b[0mavgpool\u001b[0m\u001b[0;34m(\u001b[0m\u001b[0mx\u001b[0m\u001b[0;34m)\u001b[0m\u001b[0;34m\u001b[0m\u001b[0;34m\u001b[0m\u001b[0m\n",
      "\u001b[0;32m~/.local/lib/python3.8/site-packages/torch/nn/modules/module.py\u001b[0m in \u001b[0;36m_call_impl\u001b[0;34m(self, *input, **kwargs)\u001b[0m\n\u001b[1;32m   1100\u001b[0m         if not (self._backward_hooks or self._forward_hooks or self._forward_pre_hooks or _global_backward_hooks\n\u001b[1;32m   1101\u001b[0m                 or _global_forward_hooks or _global_forward_pre_hooks):\n\u001b[0;32m-> 1102\u001b[0;31m             \u001b[0;32mreturn\u001b[0m \u001b[0mforward_call\u001b[0m\u001b[0;34m(\u001b[0m\u001b[0;34m*\u001b[0m\u001b[0minput\u001b[0m\u001b[0;34m,\u001b[0m \u001b[0;34m**\u001b[0m\u001b[0mkwargs\u001b[0m\u001b[0;34m)\u001b[0m\u001b[0;34m\u001b[0m\u001b[0;34m\u001b[0m\u001b[0m\n\u001b[0m\u001b[1;32m   1103\u001b[0m         \u001b[0;31m# Do not call functions when jit is used\u001b[0m\u001b[0;34m\u001b[0m\u001b[0;34m\u001b[0m\u001b[0;34m\u001b[0m\u001b[0m\n\u001b[1;32m   1104\u001b[0m         \u001b[0mfull_backward_hooks\u001b[0m\u001b[0;34m,\u001b[0m \u001b[0mnon_full_backward_hooks\u001b[0m \u001b[0;34m=\u001b[0m \u001b[0;34m[\u001b[0m\u001b[0;34m]\u001b[0m\u001b[0;34m,\u001b[0m \u001b[0;34m[\u001b[0m\u001b[0;34m]\u001b[0m\u001b[0;34m\u001b[0m\u001b[0;34m\u001b[0m\u001b[0m\n",
      "\u001b[0;32m~/.local/lib/python3.8/site-packages/torch/nn/modules/container.py\u001b[0m in \u001b[0;36mforward\u001b[0;34m(self, input)\u001b[0m\n\u001b[1;32m    139\u001b[0m     \u001b[0;32mdef\u001b[0m \u001b[0mforward\u001b[0m\u001b[0;34m(\u001b[0m\u001b[0mself\u001b[0m\u001b[0;34m,\u001b[0m \u001b[0minput\u001b[0m\u001b[0;34m)\u001b[0m\u001b[0;34m:\u001b[0m\u001b[0;34m\u001b[0m\u001b[0;34m\u001b[0m\u001b[0m\n\u001b[1;32m    140\u001b[0m         \u001b[0;32mfor\u001b[0m \u001b[0mmodule\u001b[0m \u001b[0;32min\u001b[0m \u001b[0mself\u001b[0m\u001b[0;34m:\u001b[0m\u001b[0;34m\u001b[0m\u001b[0;34m\u001b[0m\u001b[0m\n\u001b[0;32m--> 141\u001b[0;31m             \u001b[0minput\u001b[0m \u001b[0;34m=\u001b[0m \u001b[0mmodule\u001b[0m\u001b[0;34m(\u001b[0m\u001b[0minput\u001b[0m\u001b[0;34m)\u001b[0m\u001b[0;34m\u001b[0m\u001b[0;34m\u001b[0m\u001b[0m\n\u001b[0m\u001b[1;32m    142\u001b[0m         \u001b[0;32mreturn\u001b[0m \u001b[0minput\u001b[0m\u001b[0;34m\u001b[0m\u001b[0;34m\u001b[0m\u001b[0m\n\u001b[1;32m    143\u001b[0m \u001b[0;34m\u001b[0m\u001b[0m\n",
      "\u001b[0;32m~/.local/lib/python3.8/site-packages/torch/nn/modules/module.py\u001b[0m in \u001b[0;36m_call_impl\u001b[0;34m(self, *input, **kwargs)\u001b[0m\n\u001b[1;32m   1100\u001b[0m         if not (self._backward_hooks or self._forward_hooks or self._forward_pre_hooks or _global_backward_hooks\n\u001b[1;32m   1101\u001b[0m                 or _global_forward_hooks or _global_forward_pre_hooks):\n\u001b[0;32m-> 1102\u001b[0;31m             \u001b[0;32mreturn\u001b[0m \u001b[0mforward_call\u001b[0m\u001b[0;34m(\u001b[0m\u001b[0;34m*\u001b[0m\u001b[0minput\u001b[0m\u001b[0;34m,\u001b[0m \u001b[0;34m**\u001b[0m\u001b[0mkwargs\u001b[0m\u001b[0;34m)\u001b[0m\u001b[0;34m\u001b[0m\u001b[0;34m\u001b[0m\u001b[0m\n\u001b[0m\u001b[1;32m   1103\u001b[0m         \u001b[0;31m# Do not call functions when jit is used\u001b[0m\u001b[0;34m\u001b[0m\u001b[0;34m\u001b[0m\u001b[0;34m\u001b[0m\u001b[0m\n\u001b[1;32m   1104\u001b[0m         \u001b[0mfull_backward_hooks\u001b[0m\u001b[0;34m,\u001b[0m \u001b[0mnon_full_backward_hooks\u001b[0m \u001b[0;34m=\u001b[0m \u001b[0;34m[\u001b[0m\u001b[0;34m]\u001b[0m\u001b[0;34m,\u001b[0m \u001b[0;34m[\u001b[0m\u001b[0;34m]\u001b[0m\u001b[0;34m\u001b[0m\u001b[0;34m\u001b[0m\u001b[0m\n",
      "\u001b[0;32m~/.local/lib/python3.8/site-packages/torchvision/models/resnet.py\u001b[0m in \u001b[0;36mforward\u001b[0;34m(self, x)\u001b[0m\n\u001b[1;32m     68\u001b[0m         \u001b[0midentity\u001b[0m \u001b[0;34m=\u001b[0m \u001b[0mx\u001b[0m\u001b[0;34m\u001b[0m\u001b[0;34m\u001b[0m\u001b[0m\n\u001b[1;32m     69\u001b[0m \u001b[0;34m\u001b[0m\u001b[0m\n\u001b[0;32m---> 70\u001b[0;31m         \u001b[0mout\u001b[0m \u001b[0;34m=\u001b[0m \u001b[0mself\u001b[0m\u001b[0;34m.\u001b[0m\u001b[0mconv1\u001b[0m\u001b[0;34m(\u001b[0m\u001b[0mx\u001b[0m\u001b[0;34m)\u001b[0m\u001b[0;34m\u001b[0m\u001b[0;34m\u001b[0m\u001b[0m\n\u001b[0m\u001b[1;32m     71\u001b[0m         \u001b[0mout\u001b[0m \u001b[0;34m=\u001b[0m \u001b[0mself\u001b[0m\u001b[0;34m.\u001b[0m\u001b[0mbn1\u001b[0m\u001b[0;34m(\u001b[0m\u001b[0mout\u001b[0m\u001b[0;34m)\u001b[0m\u001b[0;34m\u001b[0m\u001b[0;34m\u001b[0m\u001b[0m\n\u001b[1;32m     72\u001b[0m         \u001b[0mout\u001b[0m \u001b[0;34m=\u001b[0m \u001b[0mself\u001b[0m\u001b[0;34m.\u001b[0m\u001b[0mrelu\u001b[0m\u001b[0;34m(\u001b[0m\u001b[0mout\u001b[0m\u001b[0;34m)\u001b[0m\u001b[0;34m\u001b[0m\u001b[0;34m\u001b[0m\u001b[0m\n",
      "\u001b[0;32m~/.local/lib/python3.8/site-packages/torch/nn/modules/module.py\u001b[0m in \u001b[0;36m_call_impl\u001b[0;34m(self, *input, **kwargs)\u001b[0m\n\u001b[1;32m   1100\u001b[0m         if not (self._backward_hooks or self._forward_hooks or self._forward_pre_hooks or _global_backward_hooks\n\u001b[1;32m   1101\u001b[0m                 or _global_forward_hooks or _global_forward_pre_hooks):\n\u001b[0;32m-> 1102\u001b[0;31m             \u001b[0;32mreturn\u001b[0m \u001b[0mforward_call\u001b[0m\u001b[0;34m(\u001b[0m\u001b[0;34m*\u001b[0m\u001b[0minput\u001b[0m\u001b[0;34m,\u001b[0m \u001b[0;34m**\u001b[0m\u001b[0mkwargs\u001b[0m\u001b[0;34m)\u001b[0m\u001b[0;34m\u001b[0m\u001b[0;34m\u001b[0m\u001b[0m\n\u001b[0m\u001b[1;32m   1103\u001b[0m         \u001b[0;31m# Do not call functions when jit is used\u001b[0m\u001b[0;34m\u001b[0m\u001b[0;34m\u001b[0m\u001b[0;34m\u001b[0m\u001b[0m\n\u001b[1;32m   1104\u001b[0m         \u001b[0mfull_backward_hooks\u001b[0m\u001b[0;34m,\u001b[0m \u001b[0mnon_full_backward_hooks\u001b[0m \u001b[0;34m=\u001b[0m \u001b[0;34m[\u001b[0m\u001b[0;34m]\u001b[0m\u001b[0;34m,\u001b[0m \u001b[0;34m[\u001b[0m\u001b[0;34m]\u001b[0m\u001b[0;34m\u001b[0m\u001b[0;34m\u001b[0m\u001b[0m\n",
      "\u001b[0;32m~/.local/lib/python3.8/site-packages/torch/nn/modules/conv.py\u001b[0m in \u001b[0;36mforward\u001b[0;34m(self, input)\u001b[0m\n\u001b[1;32m    444\u001b[0m \u001b[0;34m\u001b[0m\u001b[0m\n\u001b[1;32m    445\u001b[0m     \u001b[0;32mdef\u001b[0m \u001b[0mforward\u001b[0m\u001b[0;34m(\u001b[0m\u001b[0mself\u001b[0m\u001b[0;34m,\u001b[0m \u001b[0minput\u001b[0m\u001b[0;34m:\u001b[0m \u001b[0mTensor\u001b[0m\u001b[0;34m)\u001b[0m \u001b[0;34m->\u001b[0m \u001b[0mTensor\u001b[0m\u001b[0;34m:\u001b[0m\u001b[0;34m\u001b[0m\u001b[0;34m\u001b[0m\u001b[0m\n\u001b[0;32m--> 446\u001b[0;31m         \u001b[0;32mreturn\u001b[0m \u001b[0mself\u001b[0m\u001b[0;34m.\u001b[0m\u001b[0m_conv_forward\u001b[0m\u001b[0;34m(\u001b[0m\u001b[0minput\u001b[0m\u001b[0;34m,\u001b[0m \u001b[0mself\u001b[0m\u001b[0;34m.\u001b[0m\u001b[0mweight\u001b[0m\u001b[0;34m,\u001b[0m \u001b[0mself\u001b[0m\u001b[0;34m.\u001b[0m\u001b[0mbias\u001b[0m\u001b[0;34m)\u001b[0m\u001b[0;34m\u001b[0m\u001b[0;34m\u001b[0m\u001b[0m\n\u001b[0m\u001b[1;32m    447\u001b[0m \u001b[0;34m\u001b[0m\u001b[0m\n\u001b[1;32m    448\u001b[0m \u001b[0;32mclass\u001b[0m \u001b[0mConv3d\u001b[0m\u001b[0;34m(\u001b[0m\u001b[0m_ConvNd\u001b[0m\u001b[0;34m)\u001b[0m\u001b[0;34m:\u001b[0m\u001b[0;34m\u001b[0m\u001b[0;34m\u001b[0m\u001b[0m\n",
      "\u001b[0;32m~/.local/lib/python3.8/site-packages/torch/nn/modules/conv.py\u001b[0m in \u001b[0;36m_conv_forward\u001b[0;34m(self, input, weight, bias)\u001b[0m\n\u001b[1;32m    440\u001b[0m                             \u001b[0mweight\u001b[0m\u001b[0;34m,\u001b[0m \u001b[0mbias\u001b[0m\u001b[0;34m,\u001b[0m \u001b[0mself\u001b[0m\u001b[0;34m.\u001b[0m\u001b[0mstride\u001b[0m\u001b[0;34m,\u001b[0m\u001b[0;34m\u001b[0m\u001b[0;34m\u001b[0m\u001b[0m\n\u001b[1;32m    441\u001b[0m                             _pair(0), self.dilation, self.groups)\n\u001b[0;32m--> 442\u001b[0;31m         return F.conv2d(input, weight, bias, self.stride,\n\u001b[0m\u001b[1;32m    443\u001b[0m                         self.padding, self.dilation, self.groups)\n\u001b[1;32m    444\u001b[0m \u001b[0;34m\u001b[0m\u001b[0m\n",
      "\u001b[0;31mKeyboardInterrupt\u001b[0m: "
     ]
    }
   ],
   "source": [
    "results=analyze_model(resnet,16,10)\n",
    "print(\"training time: %f \\t train accuracy: %f \\t valid accuracy: %f \"%results)"
   ]
  },
  {
   "cell_type": "code",
   "execution_count": null,
   "metadata": {
    "execution": {
     "iopub.execute_input": "2022-03-10T13:07:11.819436Z",
     "iopub.status.busy": "2022-03-10T13:07:11.819155Z",
     "iopub.status.idle": "2022-03-10T13:11:16.637966Z",
     "shell.execute_reply": "2022-03-10T13:11:16.637278Z",
     "shell.execute_reply.started": "2022-03-10T13:07:11.819405Z"
    }
   },
   "outputs": [],
   "source": [
    "learning_rate=1.0e-03\n",
    "\n",
    "resnet.optimizer=torch.optim.SGD(resnet.model.parameters(),lr=learning_rate)\n",
    "results=analyze_model(resnet,16,10)\n",
    "print(\"training time: %f \\t train accuracy: %f \\t valid accuracy: %f \"%results)"
   ]
  },
  {
   "cell_type": "code",
   "execution_count": null,
   "metadata": {
    "execution": {
     "iopub.execute_input": "2022-03-10T13:13:23.899084Z",
     "iopub.status.busy": "2022-03-10T13:13:23.898572Z",
     "iopub.status.idle": "2022-03-10T13:17:30.877943Z",
     "shell.execute_reply": "2022-03-10T13:17:30.877261Z",
     "shell.execute_reply.started": "2022-03-10T13:13:23.899048Z"
    }
   },
   "outputs": [],
   "source": [
    "learning_rate=1.0e-06\n",
    "\n",
    "resnet.optimizer=torch.optim.SGD(resnet.model.parameters(),lr=learning_rate)\n",
    "results=analyze_model(resnet,16,10)\n",
    "print(\"training time: %f \\t train accuracy: %f \\t valid accuracy: %f \"%results)"
   ]
  },
  {
   "cell_type": "code",
   "execution_count": null,
   "metadata": {
    "execution": {
     "iopub.status.busy": "2022-03-10T12:47:54.313142Z",
     "iopub.status.idle": "2022-03-10T12:47:54.313873Z",
     "shell.execute_reply": "2022-03-10T12:47:54.313669Z",
     "shell.execute_reply.started": "2022-03-10T12:47:54.313646Z"
    }
   },
   "outputs": [],
   "source": [
    "class MNISTdigits2dTest(torch.utils.data.Dataset):\n",
    "  def __init__(self, file_name):\n",
    "        'Initialization'\n",
    "        test_data=pd.read_csv(file_name)\n",
    "        data_points=test_data.to_numpy()\n",
    "        self.data_tensor=torch.from_numpy(data_points/255).float()\n",
    "        self.data_tensor=self.data_tensor.view(-1,1,28,28)\n",
    "  def __len__(self):\n",
    "        'Denotes the total number of samples'\n",
    "        return self.data_tensor.shape[0]\n",
    "\n",
    "  def __getitem__(self, index):\n",
    "        'Generates one sample of data'\n",
    "        # Select sample\n",
    "       \n",
    "        X = self.data_tensor[index,:]\n",
    "        if self.transform:\n",
    "            X = self.transform(X)\n",
    "\n",
    "        return index+1, X"
   ]
  },
  {
   "cell_type": "code",
   "execution_count": null,
   "metadata": {
    "execution": {
     "iopub.status.busy": "2022-03-10T12:47:54.314956Z",
     "iopub.status.idle": "2022-03-10T12:47:54.315710Z",
     "shell.execute_reply": "2022-03-10T12:47:54.315485Z",
     "shell.execute_reply.started": "2022-03-10T12:47:54.315460Z"
    }
   },
   "outputs": [],
   "source": [
    "def create_submission_file(model,out_file_name):\n",
    "    model.eval()\n",
    "    data_set=MNISTdigits2dTest('../input/digit-recognizer/test.csv')\n",
    "    data_loader=torch.utils.data.DataLoader(data_set, batch_size=64, shuffle=False)\n",
    "    indices=[]\n",
    "    predictions=[]\n",
    "    with torch.no_grad():\n",
    "        for batch_indices,batch_imgs in data_loader:\n",
    "            batch_imgs=batch_imgs.to(device=available_device)\n",
    "            batch_indices=batch_indices.to(device=available_device)\n",
    "            _, batch_predictions = torch.max(model(batch_imgs), dim=1)\n",
    "            indices.append(batch_indices)\n",
    "            predictions.append(batch_predictions)\n",
    "    tensor_indices=torch.cat(tuple(indices),dim=0)\n",
    "    tensor_predictions=torch.cat(tuple(predictions),dim=0)\n",
    "    result_data_frame=pd.DataFrame({'ImageId':tensor_indices.cpu().numpy(), 'Label':tensor_predictions.cpu().numpy()})\n",
    "    result_data_frame.set_index('ImageId')\n",
    "    result_data_frame.to_csv(out_file_name,index=False)"
   ]
  },
  {
   "cell_type": "code",
   "execution_count": null,
   "metadata": {
    "execution": {
     "iopub.status.busy": "2022-03-10T12:47:54.316855Z",
     "iopub.status.idle": "2022-03-10T12:47:54.317580Z",
     "shell.execute_reply": "2022-03-10T12:47:54.317372Z",
     "shell.execute_reply.started": "2022-03-10T12:47:54.317348Z"
    }
   },
   "outputs": [],
   "source": [
    "create_submission_file(resnet.model,'./submission.csv')"
   ]
  }
 ],
 "metadata": {
  "kernelspec": {
   "display_name": "Python 3",
   "language": "python",
   "name": "python3"
  },
  "language_info": {
   "codemirror_mode": {
    "name": "ipython",
    "version": 3
   },
   "file_extension": ".py",
   "mimetype": "text/x-python",
   "name": "python",
   "nbconvert_exporter": "python",
   "pygments_lexer": "ipython3",
   "version": "3.8.10"
  }
 },
 "nbformat": 4,
 "nbformat_minor": 4
}
